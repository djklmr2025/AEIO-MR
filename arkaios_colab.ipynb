# --- CÓDIGO COMPLETO CON CONTRASEÑA INTEGRADA ---
import os
import shutil
import subprocess
import threading
import time
import requests
from IPython.display import display, HTML

# Limpiar entorno
os.chdir('/content')
if os.path.exists('AEIO-MR'):
    shutil.rmtree('AEIO-MR')

# Clonar repositorio
!git clone https://github.com/djklmr2025/AEIO-MR
%cd /content/AEIO-MR

# Instalar dependencias
!pip install flask flask-cors flask-socketio eventlet

# --- OBTENER CONTRASEÑA AUTOMÁTICAMENTE ---
print("🔑 Obteniendo contraseña para LocalTunnel...")
try:
    ip_response = requests.get('https://api.ipify.org', timeout=10)
    TUNNEL_PASSWORD = ip_response.text.strip()
    print(f"✅ CONTRASEÑA OBTENIDA: {TUNNEL_PASSWORD}")
except:
    TUNNEL_PASSWORD = "34.139.182.175"  # Usamos tu IP directamente
    print(f"⚠️  Usando IP conocida: {TUNNEL_PASSWORD}")

# --- FUNCIÓN PARA EJECUTAR SERVIDOR ---
def run_server():
    print("🚀 Iniciando servidor ARKAIOS...")
    os.system('nohup python server_arkaios.py --share --always-high-vram > server.log 2>&1 &')

# --- FUNCIÓN PARA LOCAL TUNNEL CON CONTRASEÑA ---
def setup_localtunnel_with_password():
    print("🌐 Configurando LocalTunnel con contraseña...")
    
    # Instalar LocalTunnel
    os.system('npm install -g localtunnel')
    
    # Ejecutar con subdomain específico
    os.system(f'nohup lt --port 5000 --subdomain arkaios-djklar > lt.log 2>&1 &')
    time.sleep(8)
    
    # Mostrar información completa con contraseña
    display(HTML(f"""
    <div style='background: #4CAF50; color: white; padding: 20px; border-radius: 10px;'>
        <h2>🎉 ¡SERVIDOR ACTIVO!</h2>
        <p><b>🌐 URL Pública:</b> <a href='https://arkaios-djklar.loca.lt' target='_blank'>https://arkaios-djklar.loca.lt</a></p>
        <p><b>🔑 CONTRASEÑA REQUERIDA:</b> <span style='background: #FF5722; padding: 5px; border-radius: 5px;'>{TUNNEL_PASSWORD}</span></p>
        <p><b>🏠 URL Local:</b> <a href='http://127.0.0.1:5000' target='_blank'>http://127.0.0.1:5000</a></p>
        <p><b>📚 Docs:</b> <a href='http://127.0.0.1:5000/docs' target='_blank'>http://127.0.0.1:5000/docs</a></p>
        
        <div style='background: #FF9800; padding: 10px; border-radius: 5px; margin-top: 10px;'>
            <b>📝 INSTRUCCIONES:</b>
            <ol>
                <li>Visita: <a href='https://arkaios-djklar.loca.lt' target='_blank'>https://arkaios-djklar.loca.lt</a></li>
                <li>Cuando pida contraseña, ingresa: <code>{TUNNEL_PASSWORD}</code></li>
                <li>¡Listo! Acceso garantizado</li>
            </ol>
        </div>
    </div>
    """))
    
    print("📋 Logs iniciales del servidor:")
    os.system('tail -5 server.log')

# --- EJECUCIÓN PRINCIPAL ---
print("🔄 Iniciando configuración completa...")

# Paso 1: Ejecutar servidor
run_server()
time.sleep(15)

# Paso 2: Configurar LocalTunnel con contraseña
setup_localtunnel_with_password()

# --- MONITOREO ---
def check_server_status():
    """Verifica que el servidor esté respondiendo"""
    try:
        response = requests.get('http://127.0.0.1:5000/health', timeout=5)
        if response.status_code == 200:
            print(f"✅ Servidor saludable - {time.strftime('%H:%M:%S')}")
        else:
            print(f"⚠️  Servidor con error: {response.status_code}")
    except:
        print("❌ Servidor no responde")

# Verificar estado inicial
check_server_status()

# --- MANTENER ACTIVO ---
print("\n" + "="*70)
print("🎯 SISTEMA COMPLETO - CONTRASEÑA INTEGRADA")
print(f"🔑 Contraseña: {TUNNEL_PASSWORD}")
print("🌐 URL: https://arkaios-djklar.loca.lt")
print("="*70)

# Mantener celda activa y monitorear
try:
    counter = 0
    while True:
        time.sleep(30)
        counter += 1
        if counter % 6 == 0:  # Cada 3 minutos
            check_server_status()
            print(f"⏰ Sistema activo - {time.strftime('%H:%M:%S')}")
            
except KeyboardInterrupt:
    print("🛑 Deteniendo servicios...")
    os.system('pkill -f server_arkaios.py')
    os.system('pkill -f lt')
    print("✅ Servicios detenidos")
