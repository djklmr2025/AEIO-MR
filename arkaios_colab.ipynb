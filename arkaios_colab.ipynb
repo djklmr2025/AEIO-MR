# --- CONFIGURACIÓN INICIAL ---
import os
import shutil
import subprocess
import threading
import time
from IPython.display import display, HTML

# Limpiar entorno
os.chdir('/content')
if os.path.exists('AEIO-MR'):
    shutil.rmtree('AEIO-MR')

# Clonar repositorio
!git clone https://github.com/djklmr2025/AEIO-MR
%cd /content/AEIO-MR

# Instalar dependencias
!pip install flask flask-cors flask-socketio eventlet

# --- FUNCIÓN PARA EJECUTAR SERVIDOR EN SEGUNDO PLANO ---
def run_server():
    """Ejecuta el servidor ARKAIOS en segundo plano"""
    print("🚀 Iniciando servidor ARKAIOS en segundo plano...")
    os.system('nohup python server_arkaios.py --share --always-high-vram > server.log 2>&1 &')
    
# --- FUNCIÓN PARA LOCAL TUNNEL ---
def setup_localtunnel():
    """Configura LocalTunnel para acceso externo"""
    print("🌐 Instalando LocalTunnel...")
    os.system('npm install -g localtunnel')
    
    print("🔗 Iniciando túnel...")
    os.system('nohup lt --port 5000 --subdomain arkaios-djklar > lt.log 2>&1 &')
    time.sleep(8)
    
    # Mostrar URLs
    display(HTML("""
    <div style='background: #4CAF50; color: white; padding: 20px; border-radius: 10px;'>
        <h2>🎉 ¡SERVIDOR ACTIVO!</h2>
        <p><b>🌐 URL Pública:</b> <a href='https://arkaios-djklar.loca.lt' target='_blank'>https://arkaios-djklar.loca.lt</a></p>
        <p><b>🏠 URL Local:</b> <a href='http://127.0.0.1:5000' target='_blank'>http://127.0.0.1:5000</a></p>
        <p><b>📚 Docs:</b> <a href='http://127.0.0.1:5000/docs' target='_blank'>http://127.0.0.1:5000/docs</a></p>
        <p><b>🏥 Health:</b> <a href='http://127.0.0.1:5000/health' target='_blank'>http://127.0.0.1:5000/health</a></p>
    </div>
    """))
    
    # Mostrar logs iniciales
    print("\n📋 Logs del servidor:")
    os.system('tail -10 server.log')
    
    print("\n📋 Logs de LocalTunnel:")
    os.system('tail -5 lt.log')

# --- FUNCIÓN PARA VERIFICAR ESTADO ---
def monitor_server():
    """Monitorea que el servidor esté activo"""
    import requests
    while True:
        try:
            response = requests.get('http://127.0.0.1:5000/health', timeout=5)
            print(f"✅ Servidor saludable ({response.status_code}) - {time.strftime('%H:%M:%S')}")
        except:
            print("⚠️  Servidor no responde - Reiniciando...")
            os.system('pkill -f server_arkaios.py')
            run_server()
            time.sleep(10)
        time.sleep(60)

# --- EJECUCIÓN PRINCIPAL ---
print("🔄 Iniciando proceso completo...")

# Paso 1: Ejecutar servidor en hilo separado
server_thread = threading.Thread(target=run_server, daemon=True)
server_thread.start()
time.sleep(15)

# Paso 2: Configurar LocalTunnel
setup_localtunnel()

# Paso 3: Iniciar monitoreo
monitor_thread = threading.Thread(target=monitor_server, daemon=True)
monitor_thread.start()

# --- MANTENER CELDA ACTIVA ---
print("\n" + "="*70)
print("🎯 SERVIDOR ARKAIOS + TÚNEL INTEGRADO - TODO EN 1 CELDA")
print("📍 Acceso local: http://127.0.0.1:5000")
print("🌐 Acceso público: https://arkaios-djklar.loca.lt")
print("⏰ Monitoreo activo - Se reiniciará automáticamente si falla")
print("="*70)

# Mantener proceso principal activo
try:
    while True:
        time.sleep(300)
        print(f"⏰ Sistema activo - {time.strftime('%Y-%m-%d %H:%M:%S')}")
except KeyboardInterrupt:
    print("🛑 Deteniendo servicios...")
    os.system('pkill -f server_arkaios.py')
    os.system('pkill -f lt')
    print("✅ Servicios detenidos")
